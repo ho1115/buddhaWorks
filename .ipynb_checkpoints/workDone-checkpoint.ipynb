{
 "cells": [
  {
   "cell_type": "code",
   "execution_count": 56,
   "id": "b177b9c8",
   "metadata": {},
   "outputs": [],
   "source": [
    "from bs4 import BeautifulSoup\n",
    "import urllib.request as req\n",
    "\n",
    "url = \"./Statistics for buddhism.lib.ntu.edu.tw (2022-11) - main_files/awstats(1).html\"\n",
    "code = open(url, 'r')\n",
    "soup = BeautifulSoup(code, 'html.parser')\n",
    "tables = soup.find_all(\"table\", class_= \"aws_border sortable\")\n",
    "innerTable = tables[1].find_all(\"table\", class_= \"aws_data\")[0].find_all(\"table\")[1]\n",
    "targetNum = innerTable.find_all(\"tr\")[-1].find_all(\"td\")[2].getText()\n",
    "\n",
    "\n",
    "with open('./1.txt') as src:\n",
    "    num = src.readline()\n",
    "    with open('./2.txt','w') as src2:\n",
    "        src2.write(f'{targetNum}\\n')\n",
    "        with open('./3.txt','w') as tar:\n",
    "            num = int(num) + int(targetNum)\n",
    "            tar.write(f'{num}\\n')"
   ]
  },
  {
   "cell_type": "code",
   "execution_count": null,
   "id": "f366c4a2",
   "metadata": {},
   "outputs": [],
   "source": []
  }
 ],
 "metadata": {
  "kernelspec": {
   "display_name": "Python 3 (ipykernel)",
   "language": "python",
   "name": "python3"
  },
  "language_info": {
   "codemirror_mode": {
    "name": "ipython",
    "version": 3
   },
   "file_extension": ".py",
   "mimetype": "text/x-python",
   "name": "python",
   "nbconvert_exporter": "python",
   "pygments_lexer": "ipython3",
   "version": "3.9.7"
  }
 },
 "nbformat": 4,
 "nbformat_minor": 5
}
